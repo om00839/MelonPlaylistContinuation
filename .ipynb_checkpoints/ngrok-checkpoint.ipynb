{
 "cells": [
  {
   "cell_type": "code",
   "execution_count": null,
   "metadata": {},
   "outputs": [],
   "source": [
    "# Install useful stuff\n",
    "! apt install --yes ssh screen nano htop ranger git > /dev/null\n",
    "# SSH setting\n",
    "! echo \"root:carbonara\" | chpasswd\n",
    "! echo \"PasswordAuthentication yes\" > /etc/ssh/sshd_config\n",
    "! echo \"PermitUserEnvironment yes\" >> /etc/ssh/sshd_config\n",
    "! echo \"PermitRootLogin yes\" >> /etc/ssh/sshd_config\n",
    "! service ssh restart > /dev/null\n",
    "# Download ngrok\n",
    "! wget -q -c -nc https://bin.equinox.io/c/4VmDzA7iaHb/ngrok-stable-linux-amd64.zip\n",
    "! unzip -qq -n ngrok-stable-linux-amd64.zip\n",
    "# Run ngrok\n",
    "authtoken = \"1ezuFXh61mraY9FxtndCcQplR4b_5kjZpD6gaPhWCjVhCF6Ki\"\n",
    "get_ipython().system_raw('./ngrok authtoken $authtoken && ./ngrok tcp 22 &')\n",
    "! sleep 3\n",
    "# Get the address for SSH\n",
    "import requests\n",
    "from re import sub\n",
    "r = requests.get('http://localhost:4040/api/tunnels')\n",
    "str_ssh = r.json()['tunnels'][0]['public_url']\n",
    "str_ssh = sub(\"tcp://\", \"\", str_ssh)\n",
    "str_ssh = sub(\":\", \" -p \", str_ssh)\n",
    "str_ssh = \"ssh root@\" + str_ssh\n",
    "print(str_ssh)"
   ]
  }
 ],
 "metadata": {
  "kernelspec": {
   "display_name": "Python 3",
   "language": "python",
   "name": "python3"
  },
  "language_info": {
   "codemirror_mode": {
    "name": "ipython",
    "version": 3
   },
   "file_extension": ".py",
   "mimetype": "text/x-python",
   "name": "python",
   "nbconvert_exporter": "python",
   "pygments_lexer": "ipython3",
   "version": "3.7.3"
  },
  "varInspector": {
   "cols": {
    "lenName": 16,
    "lenType": 16,
    "lenVar": 40
   },
   "kernels_config": {
    "python": {
     "delete_cmd_postfix": "",
     "delete_cmd_prefix": "del ",
     "library": "var_list.py",
     "varRefreshCmd": "print(var_dic_list())"
    },
    "r": {
     "delete_cmd_postfix": ") ",
     "delete_cmd_prefix": "rm(",
     "library": "var_list.r",
     "varRefreshCmd": "cat(var_dic_list()) "
    }
   },
   "types_to_exclude": [
    "module",
    "function",
    "builtin_function_or_method",
    "instance",
    "_Feature"
   ],
   "window_display": false
  }
 },
 "nbformat": 4,
 "nbformat_minor": 4
}
